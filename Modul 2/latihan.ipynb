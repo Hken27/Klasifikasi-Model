{
 "cells": [
  {
   "cell_type": "code",
   "execution_count": 1,
   "metadata": {},
   "outputs": [
    {
     "name": "stdout",
     "output_type": "stream",
     "text": [
      "   ORDERNUMBER  QUANTITYORDERED  PRICEEACH  ORDERLINENUMBER    SALES  \\\n",
      "0        10107               30      95.70                2  2871.00   \n",
      "1        10121               34      81.35                5  2765.90   \n",
      "2        10134               41      94.74                2  3884.34   \n",
      "3        10145               45      83.26                6  3746.70   \n",
      "4        10159               49     100.00               14  5205.27   \n",
      "\n",
      "         ORDERDATE   STATUS  PRODUCTLINE PRODUCTCODE              CUSTOMERNAME  \n",
      "0   2/24/2003 0:00  Shipped  Motorcycles    S10_1678         Land of Toys Inc.  \n",
      "1    5/7/2003 0:00  Shipped  Motorcycles    S10_1678        Reims Collectables  \n",
      "2    7/1/2003 0:00  Shipped  Motorcycles    S10_1678           Lyon Souveniers  \n",
      "3   8/25/2003 0:00  Shipped  Motorcycles    S10_1678         Toys4GrownUps.com  \n",
      "4  10/10/2003 0:00  Shipped  Motorcycles    S10_1678  Corporate Gift Ideas Co.   \n",
      "\n",
      "<class 'pandas.core.frame.DataFrame'>\n",
      "RangeIndex: 2823 entries, 0 to 2822\n",
      "Data columns (total 10 columns):\n",
      " #   Column           Non-Null Count  Dtype  \n",
      "---  ------           --------------  -----  \n",
      " 0   ORDERNUMBER      2823 non-null   int64  \n",
      " 1   QUANTITYORDERED  2823 non-null   int64  \n",
      " 2   PRICEEACH        2823 non-null   float64\n",
      " 3   ORDERLINENUMBER  2823 non-null   int64  \n",
      " 4   SALES            2823 non-null   float64\n",
      " 5   ORDERDATE        2823 non-null   object \n",
      " 6   STATUS           2823 non-null   object \n",
      " 7   PRODUCTLINE      2823 non-null   object \n",
      " 8   PRODUCTCODE      2823 non-null   object \n",
      " 9   CUSTOMERNAME     2823 non-null   object \n",
      "dtypes: float64(2), int64(3), object(5)\n",
      "memory usage: 220.7+ KB\n",
      "==========================================================\n",
      "Total unit terjual: 99067\n",
      "Rata-rata unit per transaksi: 35.09280906836698\n",
      "==========================================================\n"
     ]
    }
   ],
   "source": [
    "# a. Import Library Pandas\n",
    "import pandas as pd\n",
    "\n",
    "# b. Muat dataset 'sales_data.csv' ke dalam DataFrame.\n",
    "sales_data = pd.read_csv('sales_data.csv')\n",
    "# a. Tampilkan 5 baris pertama dari dataset.\n",
    "print(sales_data.head(), \"\\n\")\n",
    "\n",
    "# b. Gunakan .info() untuk melihat informasi dasar dataset.\n",
    "sales_data.info(), \"\\n\"\n",
    "\n",
    "# a. Hitung total unit terjual menggunakan .sum() pada kolom Sales.\n",
    "print(\"==========================================================\")\n",
    "total_unit_terjual = sales_data['QUANTITYORDERED'].sum()\n",
    "print(\"Total unit terjual:\", total_unit_terjual)\n",
    "\n",
    "# b. Temukan rata-rata unit terjual per transaksi.\n",
    "rata_rata_unit_per_transaksi = sales_data['QUANTITYORDERED'].mean()\n",
    "print(\"Rata-rata unit per transaksi:\", rata_rata_unit_per_transaksi)\n",
    "print(\"==========================================================\")\n"
   ]
  }
 ],
 "metadata": {
  "kernelspec": {
   "display_name": "Python 3",
   "language": "python",
   "name": "python3"
  },
  "language_info": {
   "codemirror_mode": {
    "name": "ipython",
    "version": 3
   },
   "file_extension": ".py",
   "mimetype": "text/x-python",
   "name": "python",
   "nbconvert_exporter": "python",
   "pygments_lexer": "ipython3",
   "version": "3.12.0"
  }
 },
 "nbformat": 4,
 "nbformat_minor": 2
}
