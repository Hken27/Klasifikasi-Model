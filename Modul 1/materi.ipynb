{
 "cells": [
  {
   "cell_type": "code",
   "execution_count": 4,
   "metadata": {},
   "outputs": [
    {
     "name": "stdout",
     "output_type": "stream",
     "text": [
      "Angka-angka acak antara 1 dan 10:\n",
      "4\n",
      "2\n",
      "7\n",
      "6\n",
      "4\n"
     ]
    }
   ],
   "source": [
    "                # soal nomor satu\n",
    "\n",
    "import random\n",
    "\n",
    "# Membuat list untuk menyimpan angka-angka acak\n",
    "angka_acak = []\n",
    "\n",
    "# Menghasilkan lima angka acak antara 1 dan 10\n",
    "for _ in range(5):\n",
    "    angka_acak.append(random.randint(1, 10))\n",
    "\n",
    "# Menampilkan angka-angka acak\n",
    "print(\"Angka-angka acak antara 1 dan 10:\")\n",
    "for angka in angka_acak:\n",
    "    print(angka)\n"
   ]
  },
  {
   "cell_type": "code",
   "execution_count": 9,
   "metadata": {},
   "outputs": [
    {
     "name": "stdout",
     "output_type": "stream",
     "text": [
      "Angka-angka acak antara 1 dan 10:\n",
      "4\n",
      "8\n",
      "5\n",
      "5\n",
      "5\n"
     ]
    }
   ],
   "source": [
    "        # soal nomor dua\n",
    "\n",
    "import random\n",
    "\n",
    "# Membuat tuple untuk menyimpan angka-angka acak\n",
    "angka_acak = ()\n",
    "\n",
    "# Menghasilkan lima angka acak antara 1 dan 10\n",
    "for _ in range(5):\n",
    "    angka_acak += (random.randint(1, 10),)\n",
    "\n",
    "# Menampilkan angka-angka acak\n",
    "print(\"Angka-angka acak antara 1 dan 10:\")\n",
    "for angka in angka_acak:\n",
    "    print(angka)\n"
   ]
  },
  {
   "cell_type": "code",
   "execution_count": 10,
   "metadata": {},
   "outputs": [
    {
     "name": "stdout",
     "output_type": "stream",
     "text": [
      "Angka-angka acak awal antara 1 dan 10:\n",
      "9\n",
      "9\n",
      "1\n",
      "3\n",
      "1\n",
      "\n",
      "Angka-angka acak baru (termasuk tambahan) antara 1 dan 10:\n",
      "9\n",
      "9\n",
      "1\n",
      "3\n",
      "1\n",
      "6\n",
      "2\n",
      "3\n"
     ]
    }
   ],
   "source": [
    "        # soal nomor 3\n",
    "\n",
    "import random\n",
    "\n",
    "# Membuat tuple awal untuk menyimpan angka-angka acak\n",
    "angka_acak_awal = ()\n",
    "\n",
    "# Menghasilkan lima angka acak antara 1 dan 10\n",
    "for _ in range(5):\n",
    "    angka_acak_awal += (random.randint(1, 10),)\n",
    "\n",
    "# Menampilkan angka-angka acak awal\n",
    "print(\"Angka-angka acak awal antara 1 dan 10:\")\n",
    "for angka in angka_acak_awal:\n",
    "    print(angka)\n",
    "\n",
    "# Menambahkan angka acak tambahan ke tuple\n",
    "angka_acak_tambahan = ()\n",
    "for _ in range(3):\n",
    "    angka_acak_tambahan += (random.randint(1, 10),)\n",
    "\n",
    "# Membuat tuple baru yang berisi angka-angka acak awal dan tambahan\n",
    "angka_acak_baru = angka_acak_awal + angka_acak_tambahan\n",
    "\n",
    "# Menampilkan angka-angka acak baru\n",
    "print(\"\\nAngka-angka acak baru (termasuk tambahan) antara 1 dan 10:\")\n",
    "for angka in angka_acak_baru:\n",
    "    print(angka)\n"
   ]
  },
  {
   "cell_type": "code",
   "execution_count": 11,
   "metadata": {},
   "outputs": [
    {
     "name": "stdout",
     "output_type": "stream",
     "text": [
      "Tuple terurut: (2, 4, 5, 7, 9)\n"
     ]
    }
   ],
   "source": [
    "    # soal nomor 4\n",
    "\n",
    "def urutkan_tuple(tuple_angka):\n",
    "    # Mengubah tuple menjadi list untuk diurutkan\n",
    "    list_angka = list(tuple_angka)\n",
    "    # Mengurutkan list\n",
    "    list_angka.sort()\n",
    "    # Mengembalikan tuple hasil pengurutan\n",
    "    return tuple(list_angka)\n",
    "\n",
    "# Contoh penggunaan fungsi\n",
    "tuple_angka = (9, 2, 7, 4, 5)\n",
    "tuple_terurut = urutkan_tuple(tuple_angka)\n",
    "print(\"Tuple terurut:\", tuple_terurut)\n"
   ]
  },
  {
   "cell_type": "code",
   "execution_count": 3,
   "metadata": {},
   "outputs": [
    {
     "name": "stdout",
     "output_type": "stream",
     "text": [
      "Array Numpyy 1D dengan bilangan bulat acak antara 1 dan 10:\n",
      "[ 9  5 10  9  3]\n"
     ]
    }
   ],
   "source": [
    "        # soal nomor 5\n",
    "\n",
    "import numpy as np\n",
    "\n",
    "# Membuat array Numpy 1D dengan 5 bilangan bulat acak antara 1 dan 10\n",
    "array_acak = np.random.randint(1, 11, size=5)\n",
    "\n",
    "# Menampilkan array Numpy\n",
    "print(\"Array Numpyy 1D dengan bilangan bulat acak antara 1 dan 10:\")\n",
    "print(array_acak)\n"
   ]
  },
  {
   "cell_type": "code",
   "execution_count": 16,
   "metadata": {},
   "outputs": [
    {
     "name": "stdout",
     "output_type": "stream",
     "text": [
      "Array Numpy 1D dengan bilangan bulat acak antara 1 dan 10:\n",
      "[2 1 1 5 8]\n",
      "Mean: 3.4\n",
      "Median: 2.0\n",
      "Standar Deviasi: 2.727636339397171\n"
     ]
    }
   ],
   "source": [
    "            # soal nomor 6\n",
    "\n",
    "import numpy as np\n",
    "\n",
    "# Array Numpy 1D dengan 5 bilangan bulat acak antara 1 dan 10\n",
    "array_acak = np.random.randint(1, 11, size=5)\n",
    "\n",
    "# Menampilkan array Numpy\n",
    "print(\"Array Numpy 1D dengan bilangan bulat acak antara 1 dan 10:\")\n",
    "print(array_acak)\n",
    "\n",
    "# Menghitung mean\n",
    "mean = np.mean(array_acak)\n",
    "print(\"Mean:\", mean)\n",
    "\n",
    "# Menghitung median\n",
    "median = np.median(array_acak)\n",
    "print(\"Median:\", median)\n",
    "\n",
    "# Menghitung standar deviasi\n",
    "std_dev = np.std(array_acak)\n",
    "print(\"Standar Deviasi:\", std_dev)\n"
   ]
  },
  {
   "cell_type": "code",
   "execution_count": 19,
   "metadata": {},
   "outputs": [
    {
     "name": "stdout",
     "output_type": "stream",
     "text": [
      "Array NumPy 2D (3x3) dengan angka acak antara 1 dan 10:\n",
      "[[ 8  8  8]\n",
      " [ 7 10  5]\n",
      " [ 4  3  9]]\n"
     ]
    }
   ],
   "source": [
    "            # soal nomor 7\n",
    "\n",
    "import numpy as np\n",
    "\n",
    "# Membuat array NumPy 2D dengan ukuran 3x3 berisi angka acak antara 1 dan 10\n",
    "array_acak_2d = np.random.randint(1, 11, size=(3, 3))\n",
    "\n",
    "# Menampilkan array NumPy 2D\n",
    "print(\"Array NumPy 2D (3x3) dengan angka acak antara 1 dan 10:\")\n",
    "print(array_acak_2d)\n"
   ]
  },
  {
   "cell_type": "code",
   "execution_count": 21,
   "metadata": {},
   "outputs": [
    {
     "name": "stdout",
     "output_type": "stream",
     "text": [
      "Array NumPy 2D (3x3) dengan angka acak antara 1 dan 10:\n",
      "[[ 6  4  1]\n",
      " [ 6  2  1]\n",
      " [ 9 10  3]]\n",
      "\n",
      "Array 1D yang telah diratakan menggunakan flatten():\n",
      "[ 6  4  1  6  2  1  9 10  3]\n",
      "\n",
      "Array 1D yang telah diratakan menggunakan ravel():\n",
      "[ 6  4  1  6  2  1  9 10  3]\n"
     ]
    }
   ],
   "source": [
    "        # soal nomor 8\n",
    "\n",
    "import numpy as np\n",
    "\n",
    "# Array NumPy 2D (3x3) dengan angka acak antara 1 dan 10\n",
    "array_acak_2d = np.random.randint(1, 11, size=(3, 3))\n",
    "\n",
    "# Menampilkan array NumPy 2D\n",
    "print(\"Array NumPy 2D (3x3) dengan angka acak antara 1 dan 10:\")\n",
    "print(array_acak_2d)\n",
    "\n",
    "# Meratakan array 2D menjadi array 1D menggunakan flatten()\n",
    "array_1d_flatten = array_acak_2d.flatten()\n",
    "\n",
    "# Menampilkan array 1D yang telah diratakan\n",
    "print(\"\\nArray 1D yang telah diratakan menggunakan flatten():\")\n",
    "print(array_1d_flatten)\n",
    "\n",
    "# Meratakan array 2D menjadi array 1D menggunakan ravel()\n",
    "array_1d_ravel = array_acak_2d.ravel()\n",
    "\n",
    "# Menampilkan array 1D yang telah diratakan menggunakan ravel()\n",
    "print(\"\\nArray 1D yang telah diratakan menggunakan ravel():\")\n",
    "print(array_1d_ravel)\n"
   ]
  },
  {
   "cell_type": "code",
   "execution_count": 23,
   "metadata": {},
   "outputs": [
    {
     "name": "stdout",
     "output_type": "stream",
     "text": [
      "    Nama  Usia      Kota     Pekerjaan\n",
      "0   John    25   Jakarta         Sopir\n",
      "1   Anna    30  Surabaya          Joki\n",
      "2  Peter    28   Bandung  Penari latar\n"
     ]
    }
   ],
   "source": [
    "        # soal nomor 10\n",
    "\n",
    "import pandas as pd\n",
    "\n",
    "# Membuat dictionary yang berisi data nama, usia, dan kota dari 3 orang\n",
    "data = {\n",
    "    'Nama': ['Amar', 'Jasuke', 'Piter'],\n",
    "    'Usia': [25, 30, 28],\n",
    "    'Kota': ['Jakarta', 'Surabaya', 'Bandung'],\n",
    "    'Pekerjaan': ['Whiters', 'Joki', 'Penari latar']\n",
    "}\n",
    "\n",
    "# Membuat DataFrame dari dictionary\n",
    "df = pd.DataFrame(data)\n",
    "\n",
    "# Menampilkan DataFrame\n",
    "print(df)\n"
   ]
  },
  {
   "cell_type": "code",
   "execution_count": 24,
   "metadata": {},
   "outputs": [
    {
     "name": "stdout",
     "output_type": "stream",
     "text": [
      "     Nama  Usia      Kota     Pekerjaan\n",
      "0    Amar    31   Jakarta         Sopir\n",
      "1  Jasuke    30  Surabaya          Joki\n",
      "2   Piter    28   Bandung  Penari latar\n"
     ]
    }
   ],
   "source": [
    "        # soal nomor 11\n",
    "\n",
    "import pandas as pd\n",
    "\n",
    "# Membuat dictionary yang berisi data nama, usia, dan kota dari 3 orang\n",
    "data = {\n",
    "    'Nama': ['Amar', 'Jasuke', 'Piter'],\n",
    "    'Usia': [31, 30, 28],\n",
    "    'Kota': ['Jakarta', 'Surabaya', 'Bandung'],\n",
    "    'Pekerjaan': ['Withers', 'Joki', 'Penari latar']\n",
    "}\n",
    "\n",
    "# Membuat DataFrame dari dictionary\n",
    "df = pd.DataFrame(data)\n",
    "\n",
    "# Menampilkan DataFrame\n",
    "print(df)\n"
   ]
  },
  {
   "cell_type": "code",
   "execution_count": 25,
   "metadata": {},
   "outputs": [
    {
     "name": "stdout",
     "output_type": "stream",
     "text": [
      "DataFrame yang diurutkan berdasarkan usia:\n",
      "     Nama  Usia      Kota     Pekerjaan\n",
      "2   Piter    28   Bandung  Penari latar\n",
      "1  Jasuke    30  Surabaya          Joki\n",
      "0    Amar    31   Jakarta         Sopir\n"
     ]
    }
   ],
   "source": [
    "        # soal nomor 12\n",
    "\n",
    "import pandas as pd\n",
    "\n",
    "# Membuat DataFrame yang sama seperti sebelumnya\n",
    "data = {\n",
    "    'Nama': ['Amar', 'Jasuke', 'Piter'],\n",
    "    'Usia': [31, 30, 28],\n",
    "    'Kota': ['Jakarta', 'Surabaya', 'Bandung'],\n",
    "    'Pekerjaan': ['Whiters', 'Joki', 'Penari latar']\n",
    "}\n",
    "df = pd.DataFrame(data)\n",
    "\n",
    "# Mengurutkan DataFrame berdasarkan kolom 'Usia' dari yang muda ke yang tua\n",
    "df_urut = df.sort_values(by='Usia')\n",
    "\n",
    "# Menampilkan DataFrame yang telah diurutkan\n",
    "print(\"DataFrame yang diurutkan berdasarkan usia:\")\n",
    "print(df_urut)\n"
   ]
  }
 ],
 "metadata": {
  "kernelspec": {
   "display_name": "Python 3",
   "language": "python",
   "name": "python3"
  },
  "language_info": {
   "codemirror_mode": {
    "name": "ipython",
    "version": 3
   },
   "file_extension": ".py",
   "mimetype": "text/x-python",
   "name": "python",
   "nbconvert_exporter": "python",
   "pygments_lexer": "ipython3",
   "version": "3.12.0"
  }
 },
 "nbformat": 4,
 "nbformat_minor": 2
}
